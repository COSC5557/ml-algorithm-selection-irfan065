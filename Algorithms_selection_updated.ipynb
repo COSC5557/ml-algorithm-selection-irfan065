{
  "nbformat": 4,
  "nbformat_minor": 0,
  "metadata": {
    "colab": {
      "provenance": []
    },
    "kernelspec": {
      "name": "python3",
      "display_name": "Python 3"
    },
    "language_info": {
      "name": "python"
    }
  },
  "cells": [
    {
      "cell_type": "markdown",
      "source": [
        "##Importing Libraries"
      ],
      "metadata": {
        "id": "xJt79MtsDqhi"
      }
    },
    {
      "cell_type": "code",
      "source": [
        "import pandas as pd\n",
        "import matplotlib.pyplot as plt\n",
        "import seaborn as sns\n",
        "from sklearn.model_selection import train_test_split, cross_val_score\n",
        "from sklearn.ensemble import RandomForestClassifier\n",
        "from sklearn.svm import SVC\n",
        "from sklearn.linear_model import LogisticRegression\n",
        "from sklearn.tree import DecisionTreeClassifier\n",
        "from scipy import stats\n",
        "from sklearn.exceptions import ConvergenceWarning\n",
        "import warnings\n"
      ],
      "metadata": {
        "id": "ugGZ9-tzD38v"
      },
      "execution_count": 2,
      "outputs": []
    },
    {
      "cell_type": "markdown",
      "source": [
        "## Importing Data"
      ],
      "metadata": {
        "id": "Tw75-XBnEQo0"
      }
    },
    {
      "cell_type": "code",
      "source": [
        "data = pd.read_csv('wineq.csv')\n",
        "X = data.iloc[:, :-1].values\n",
        "y = data.iloc[:, -1].values\n",
        "X_train, X_test, y_train, y_test = train_test_split(X, y, test_size=0.2, random_state=0)"
      ],
      "metadata": {
        "id": "fePeR-8UEckD"
      },
      "execution_count": 3,
      "outputs": []
    },
    {
      "cell_type": "markdown",
      "source": [
        "## Algorithm Selection"
      ],
      "metadata": {
        "id": "DsUhKw34FPEG"
      }
    },
    {
      "cell_type": "code",
      "source": [
        "\n",
        "models = [\n",
        "    ('Random Forest', RandomForestClassifier()),\n",
        "    ('SVM', SVC()),\n",
        "    ('Logistic Regression', LogisticRegression()),\n",
        "    ('Decision Tree', DecisionTreeClassifier())\n",
        "]\n"
      ],
      "metadata": {
        "id": "0Y70ACnlFZll"
      },
      "execution_count": 4,
      "outputs": []
    },
    {
      "cell_type": "markdown",
      "source": [
        "## Cross-Validation and Model Evaluation"
      ],
      "metadata": {
        "id": "kqiJUMShFhXM"
      }
    },
    {
      "cell_type": "code",
      "source": [
        "from sklearn.exceptions import ConvergenceWarning\n",
        "warnings.filterwarnings(\"ignore\", category=ConvergenceWarning)\n",
        "results = {}\n",
        "for name, model in models:\n",
        "    scores = cross_val_score(model, X_train, y_train, cv=5, scoring='accuracy')\n",
        "    results[name] = scores"
      ],
      "metadata": {
        "id": "saRL5EJBFmzN"
      },
      "execution_count": 5,
      "outputs": []
    },
    {
      "cell_type": "markdown",
      "source": [
        "## Statistical Tests"
      ],
      "metadata": {
        "id": "NtYjoSlpGRss"
      }
    },
    {
      "cell_type": "code",
      "source": [
        "comparisons = []\n",
        "for i, (name1, _) in enumerate(models):\n",
        "    for j, (name2, _) in enumerate(models):\n",
        "        if i < j:\n",
        "            p_value = stats.ttest_rel(results[name1], results[name2]).pvalue\n",
        "            comparisons.append((name1, name2, p_value))"
      ],
      "metadata": {
        "id": "rcRDCeESGbJD"
      },
      "execution_count": 6,
      "outputs": []
    },
    {
      "cell_type": "markdown",
      "source": [
        "## Model Selection"
      ],
      "metadata": {
        "id": "NPlmKdmYG3iP"
      }
    },
    {
      "cell_type": "code",
      "source": [
        "alpha = 0.01  # Set your significance level\n",
        "selected_algorithms = [name for name, _ in models if all(p >= alpha for _, _, p in comparisons if _ == name)]"
      ],
      "metadata": {
        "id": "tlUb1Z4ZG7uh"
      },
      "execution_count": 7,
      "outputs": []
    },
    {
      "cell_type": "markdown",
      "source": [
        "## Final Selection"
      ],
      "metadata": {
        "id": "hbjtuoytHXP3"
      }
    },
    {
      "cell_type": "code",
      "source": [
        "final_scores = {}\n",
        "for name, model in models:\n",
        "    model.fit(X_train, y_train)\n",
        "    accuracy = model.score(X_test, y_test)\n",
        "    final_scores[name] = accuracy\n",
        "\n",
        "best_model = max(final_scores, key=final_scores.get)\n",
        "for name, accuracy in final_scores.items():\n",
        "    print(f\"{name} Accuracy: {accuracy}\")\n",
        "print(\"Selected Algorithms:\", selected_algorithms)\n",
        "print(\"Best Model:\", best_model, final_scores[best_model])\n",
        "\n"
      ],
      "metadata": {
        "colab": {
          "base_uri": "https://localhost:8080/"
        },
        "id": "XuMrvU8cHWaR",
        "outputId": "4e290cf9-cd5f-4907-d522-3d3dfd69db62"
      },
      "execution_count": 8,
      "outputs": [
        {
          "output_type": "stream",
          "name": "stdout",
          "text": [
            "Random Forest Accuracy: 0.728125\n",
            "SVM Accuracy: 0.503125\n",
            "Logistic Regression Accuracy: 0.63125\n",
            "Decision Tree Accuracy: 0.64375\n",
            "Selected Algorithms: ['Random Forest']\n",
            "Best Model: Random Forest 0.728125\n"
          ]
        }
      ]
    },
    {
      "cell_type": "markdown",
      "source": [
        "## Visualization"
      ],
      "metadata": {
        "id": "C4HhRVXGT-1T"
      }
    },
    {
      "cell_type": "code",
      "source": [
        "plt.figure(figsize=(10, 6))\n",
        "df_results = pd.DataFrame(results)\n",
        "sns.barplot(data=df_results.mean().reset_index(), x='index', y=0)\n",
        "plt.title(\"Model Performance Comparison\")\n",
        "plt.xlabel(\"Model\")\n",
        "plt.ylabel(\"Accuracy\")\n",
        "plt.show()"
      ],
      "metadata": {
        "colab": {
          "base_uri": "https://localhost:8080/",
          "height": 564
        },
        "id": "sRq_B4MGT_Fk",
        "outputId": "d18ca842-1d5e-4033-c4ac-920d668b086a"
      },
      "execution_count": 14,
      "outputs": [
        {
          "output_type": "display_data",
          "data": {
            "text/plain": [
              "<Figure size 1000x600 with 1 Axes>"
            ],
            "image/png": "[encoded data removed]"
          },
          "metadata": {}
        }
      ]
    }
  ]
}